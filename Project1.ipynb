{
 "cells": [
  {
   "cell_type": "markdown",
   "metadata": {},
   "source": [
    "Team info:\n",
    "Project Title\n",
    "Team name\n",
    "Team member names and PIDs."
   ]
  },
  {
   "cell_type": "markdown",
   "metadata": {},
   "source": [
    "Project introduction:\n",
    "Initial description of the project topic\n",
    "Potential research questions you plan to address\n",
    "Description of potential source data that would be relevant (including links or references if possible)."
   ]
  }
 ],
 "metadata": {
  "language_info": {
   "name": "python"
  }
 },
 "nbformat": 4,
 "nbformat_minor": 2
}
