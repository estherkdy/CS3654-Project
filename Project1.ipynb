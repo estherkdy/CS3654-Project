{
 "cells": [
  {
   "cell_type": "markdown",
   "metadata": {},
   "source": [
    "# Team info:\n",
    "\n",
    "Project Title:\n",
    "\n",
    "Team name: \n",
    "\n",
    "Team member names and PIDs:\n",
    "- Esther Kim - estherkdy\n",
    "- Kaitlyn Green - kaitlyngreen\n",
    "- Ben Clements - "
   ]
  },
  {
   "cell_type": "markdown",
   "metadata": {},
   "source": [
    "# Project introduction:\n",
    "### Initial description of the project topic\n",
    "\n",
    "\n",
    "### Potential research questions you plan to address\n",
    "\n",
    "\n",
    "\n",
    "### Description of potential source data that would be relevant (including links or references if possible).\n",
    "\n",
    "basketball-reference.com includes data related to player stats and current season team standings: https://www.basketball-reference.com/\r\n",
    "\r\n",
    "nba.com has two current leaderboards for points, turnovers, etc along with player and team data: https://www.nba.com/stats\r\n",
    "\r\n",
    "Statistics website on play by play data, like 'Seconds Per Possession Split by Offense and Defense': https://www.pbpstats.com/\n",
    "\n",
    "\n",
    "\n"
   ]
  },
  {
   "cell_type": "code",
   "execution_count": null,
   "metadata": {},
   "outputs": [],
   "source": []
  }
 ],
 "metadata": {
  "kernelspec": {
   "display_name": "Python 3 (ipykernel)",
   "language": "python",
   "name": "python3"
  },
  "language_info": {
   "codemirror_mode": {
    "name": "ipython",
    "version": 3
   },
   "file_extension": ".py",
   "mimetype": "text/x-python",
   "name": "python",
   "nbconvert_exporter": "python",
   "pygments_lexer": "ipython3",
   "version": "3.12.3"
  }
 },
 "nbformat": 4,
 "nbformat_minor": 4
}
