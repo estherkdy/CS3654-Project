{
 "cells": [
  {
   "cell_type": "markdown",
   "metadata": {},
   "source": [
    "# Team info:\n",
    "\n",
    "Project Title: Analysis of Universities/Colleges of VA and Student Outcomes\n",
    "\n",
    "Team name: Algorithm Avengers\n",
    "\n",
    "Team member names and PIDs:\n",
    "- Esther Kim - estherkdy\n",
    "- Kaitlyn Green - kaitlyngreen\n",
    "- Ben Clements - benc04 \n",
    "- Hieu Ngo - hieu \n",
    "- Jackson Rowley - jacksonrowley \n",
    "\n",
   ]
  },
  {
   "cell_type": "markdown",
   "metadata": {},
   "source": [
    "# Project introduction:\n",
    "### Initial description of the project topic\n",
    "\n",
    "\n",
    "### Potential research questions you plan to address\n",
    "\n",
    "\n",
    "\n",
    "### Description of potential source data that would be relevant (including links or references if possible).\n",
    "\n",
    "\n",
    "\n"
   ]
  },
  {
   "cell_type": "code",
   "execution_count": null,
   "metadata": {},
   "outputs": [],
   "source": []
  }
 ],
 "metadata": {
  "kernelspec": {
   "display_name": "Python 3 (ipykernel)",
   "language": "python",
   "name": "python3"
  },
  "language_info": {
   "codemirror_mode": {
    "name": "ipython",
    "version": 3
   },
   "file_extension": ".py",
   "mimetype": "text/x-python",
   "name": "python",
   "nbconvert_exporter": "python",
   "pygments_lexer": "ipython3",
   "version": "3.12.3"
  }
 },
 "nbformat": 4,
 "nbformat_minor": 4
}
