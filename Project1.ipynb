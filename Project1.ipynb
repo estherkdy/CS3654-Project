{
 "cells": [
  {
   "cell_type": "markdown",
   "metadata": {},
   "source": [
    "# Team info:\n",
    "\n",
    "Project Title: NBA Analytics and Predictions\n",
    "\n",
    "Team name: Approximately Normal\n",
    "\n",
    "\n",
    "Team member names and PIDs:\n",
    "Esther Kim - estherkdy\n",
    "Justin Huynh -  juhuynh8\n",
    "Kaitlyn Green - kaitlyngreen\n",
    "Ben Clements - "
   ]
  },
  {
   "cell_type": "markdown",
   "metadata": {},
   "source": [
    "# Project introduction:\n",
    "### Initial description of the project topic\n",
    "Our project aims to use data analytics to create various predictions on player performance and team success rate.\n",
    "\n",
    "\n",
    "### Potential research questions you plan to address\n",
    "\n",
    "- What variables are the most significant indicators of high win rate? (3p field goals, minutes played, etc.)\n",
    "\n",
    "- What variables are the most significant indicators of who is awarded the NBA MVP?\n",
    "\n",
    "- How can we predict an NBA player's risk of injury?\n",
    "\n",
    "### Description of potential source data that would be relevant (including links or references if possible).\n",
    "\n",
    "basketball-reference.com includes data related to player stats and current season team standings.\n",
    "https://www.basketball-reference.com/\n",
    "\n",
    "nba.com has two current leaderboards for points, turnovers, etc along with player and team data.\n",
    "https://www.nba.com/stats\n",
    "\n",
    "Statistics website on play by play data, like ;Seconds Per Possession Split by Offense and Defense'.\n",
    "https://www.pbpstats.com/\n",
    "\n",
    "\n",
    "\n"
   ]
  },
  {
   "cell_type": "code",
   "execution_count": null,
   "metadata": {},
   "outputs": [],
   "source": []
  }
 ],
 "metadata": {
  "kernelspec": {
   "display_name": "Python 3 (ipykernel)",
   "language": "python",
   "name": "python3"
  },
  "language_info": {
   "codemirror_mode": {
    "name": "ipython",
    "version": 3
   },
   "file_extension": ".py",
   "mimetype": "text/x-python",
   "name": "python",
   "nbconvert_exporter": "python",
   "pygments_lexer": "ipython3",
   "version": "3.12.3"
  }
 },
 "nbformat": 4,
 "nbformat_minor": 4
}
