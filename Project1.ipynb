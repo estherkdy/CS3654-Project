{
 "cells": [
  {
   "cell_type": "markdown",
   "metadata": {},
   "source": [
    "# Team info:\n",
    "\n",
    "Project Title: Analysis of University Rankings in VA and Student Outcomes\n",
    "\n",
    "Team name: Algorithm Avengers\n",
    "\n",
    "Team member names and PIDs:\n",
    "- Esther Kim - estherkdy\n",
    "- Kaitlyn Green - kaitlyngreen\n",
    "- Ben Clements - benc04 \n",
    "- Hieu Ngo - hieu \n",
    "- Jackson Rowley - jacksonrowley \n",
    "\n"
   ]
  },
  {
   "cell_type": "markdown",
   "metadata": {},
   "source": [
    "# Project introduction:\n",
    "### Initial description of the project topic\n",
    "\n",
    "Investigate relation between University Rankings and employment rates, income, salary growth, and average debt.\n",
    "\n",
    "\n",
    "### Potential research questions you plan to address\n",
    "\n",
    "What factors most significantly influence university rankings among Virginia universities?\n",
    "\n",
    "Is there a correlation between university rankings and graduate employment rates in Virginia?\n",
    "\n",
    "Is there a correlation between university rankings and starting salary?\n",
    "\n",
    "Is there a correlation between university rankings and salary growth in the first few years?\n",
    "\n",
     "How does school ranking correlate with job placement and salary trends in different industries?\n",
    "\n",
    "What is the impact of new degrees on employment rates?\n",
    "\n",
    "### Description of potential source data that would be relevant (including links or references if possible).\n",
    "\n",
    "Best Colleges in Virginia and Categorial Rankings: https://www.usnews.com/best-colleges/va\n",
    "\n",
    "List of Colleges & Universities in VA with school populations: https://en.wikipedia.org/wiki/List_of_colleges_and_universities_in_Virginia\n",
    "\n",
    "Offers salary data based on employment reports, filtering by degree, university, and industry possible: https://www.glassdoor.com/index.htm.\n",
    "\n",
    "US Dept of Education, has tuition, mean salary, and graduation rate of universities: \n",
     https://collegescorecard.ed.gov/school/?234076-University-of-Virginia-Main-Campus \n",
    "\n",
    "\n"
   ]
  },
  {
   "cell_type": "code",
   "execution_count": null,
   "metadata": {},
   "outputs": [],
   "source": []
  }
 ],
 "metadata": {
  "kernelspec": {
   "display_name": "Python 3 (ipykernel)",
   "language": "python",
   "name": "python3"
  },
  "language_info": {
   "codemirror_mode": {
    "name": "ipython",
    "version": 3
   },
   "file_extension": ".py",
   "mimetype": "text/x-python",
   "name": "python",
   "nbconvert_exporter": "python",
   "pygments_lexer": "ipython3",
   "version": "3.12.3"
  }
 },
 "nbformat": 4,
 "nbformat_minor": 4
}
