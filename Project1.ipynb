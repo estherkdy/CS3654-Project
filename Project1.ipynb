{
 "cells": [
  {
   "cell_type": "markdown",
   "metadata": {},
   "source": [
    "Team info:\n",
    "\n",
    "Project Title:\n",
    "\n",
    "Team name:\n",
    "\n",
    "\n",
    "Team member names and PIDs:\n",
    "Esther Kim - estherkdy\n",
    "Justin Huynh -  \n",
    "Kaitlyn Green - kaitlyngreen\n",
    "Ben Clements - "
   ]
  },
  {
   "cell_type": "markdown",
   "metadata": {},
   "source": [
    "Project introduction:\n",
    "Initial description of the project topic\n",
    "\n",
    "\n",
    "Potential research questions you plan to address\n",
    "\n",
    "\n",
    "\n",
    "Description of potential source data that would be relevant (including links or references if possible).\n",
    "\n",
    "\n"
   ]
  }
 ],
 "metadata": {
  "language_info": {
   "name": "python"
  }
 },
 "nbformat": 4,
 "nbformat_minor": 2
}
